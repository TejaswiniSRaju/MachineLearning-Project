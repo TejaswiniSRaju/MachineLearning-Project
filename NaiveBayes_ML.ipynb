{
  "nbformat": 4,
  "nbformat_minor": 0,
  "metadata": {
    "colab": {
      "provenance": []
    },
    "kernelspec": {
      "name": "python3",
      "display_name": "Python 3"
    },
    "language_info": {
      "name": "python"
    }
  },
  "cells": [
    {
      "cell_type": "markdown",
      "source": [
        "## Gaussian"
      ],
      "metadata": {
        "id": "RLRR7YV4jPOF"
      }
    },
    {
      "cell_type": "code",
      "execution_count": null,
      "metadata": {
        "id": "poB-2bnAsxIf"
      },
      "outputs": [],
      "source": [
        "x=[[181,80,9],[177,70,10],[160,60,8],[154,54,7]]\n",
        "y=['male','male','male','female']"
      ]
    },
    {
      "cell_type": "code",
      "source": [
        "test_data=[[190,70,10],[154,75,6]]\n",
        "test_label=['male','feamle']"
      ],
      "metadata": {
        "id": "s8P4pDiJs55W"
      },
      "execution_count": null,
      "outputs": []
    },
    {
      "cell_type": "code",
      "source": [
        "from sklearn.naive_bayes import GaussianNB"
      ],
      "metadata": {
        "id": "deaGuYnds-1Q"
      },
      "execution_count": null,
      "outputs": []
    },
    {
      "cell_type": "code",
      "source": [
        "gb=GaussianNB()"
      ],
      "metadata": {
        "id": "_T7GC478tOGG"
      },
      "execution_count": null,
      "outputs": []
    },
    {
      "cell_type": "code",
      "source": [
        "model=gb.fit(x,y)"
      ],
      "metadata": {
        "id": "MfhbUU1ctUWh"
      },
      "execution_count": null,
      "outputs": []
    },
    {
      "cell_type": "code",
      "source": [
        "pred=model.predict(test_data)"
      ],
      "metadata": {
        "id": "DHXBAePOtY07"
      },
      "execution_count": null,
      "outputs": []
    },
    {
      "cell_type": "code",
      "source": [
        "pred"
      ],
      "metadata": {
        "colab": {
          "base_uri": "https://localhost:8080/"
        },
        "id": "zp10ci9etedO",
        "outputId": "3f20be80-9796-4570-8ef8-8925c931d7f7"
      },
      "execution_count": null,
      "outputs": [
        {
          "output_type": "execute_result",
          "data": {
            "text/plain": [
              "array(['male', 'male'], dtype='<U6')"
            ]
          },
          "metadata": {},
          "execution_count": 7
        }
      ]
    },
    {
      "cell_type": "markdown",
      "source": [
        "## Bernoulli"
      ],
      "metadata": {
        "id": "0lAM4tQzjW2B"
      }
    },
    {
      "cell_type": "code",
      "source": [
        "from sklearn.naive_bayes import BernoulliNB"
      ],
      "metadata": {
        "id": "pNbl8Opvtflv"
      },
      "execution_count": null,
      "outputs": []
    },
    {
      "cell_type": "code",
      "source": [
        "bnb=BernoulliNB()"
      ],
      "metadata": {
        "id": "ER5sdIsLwZO7"
      },
      "execution_count": null,
      "outputs": []
    },
    {
      "cell_type": "code",
      "source": [
        "model1=bnb.fit(x,y)"
      ],
      "metadata": {
        "id": "h0EmncUBwdoa"
      },
      "execution_count": null,
      "outputs": []
    },
    {
      "cell_type": "code",
      "source": [
        "print(model1.predict(test_data))"
      ],
      "metadata": {
        "colab": {
          "base_uri": "https://localhost:8080/"
        },
        "id": "KfOITQO9wiXk",
        "outputId": "40e8bb5d-86c3-4871-b58d-d28298ab71aa"
      },
      "execution_count": null,
      "outputs": [
        {
          "output_type": "stream",
          "name": "stdout",
          "text": [
            "['male' 'male']\n"
          ]
        }
      ]
    },
    {
      "cell_type": "code",
      "source": [
        "x=[[181,80,9],[177,70,10],[160,60,8],[154,54,7]]"
      ],
      "metadata": {
        "id": "m_R54W2o5e8s"
      },
      "execution_count": null,
      "outputs": []
    },
    {
      "cell_type": "code",
      "source": [
        "y=[1,1,0,0]"
      ],
      "metadata": {
        "id": "CdClQUhK5j8g"
      },
      "execution_count": null,
      "outputs": []
    },
    {
      "cell_type": "code",
      "source": [
        "test_data=[[190,70,10]]"
      ],
      "metadata": {
        "id": "9xC37D-w5nEg"
      },
      "execution_count": null,
      "outputs": []
    },
    {
      "cell_type": "markdown",
      "source": [
        "## Decision Tree Regressor"
      ],
      "metadata": {
        "id": "2_hzJGWkjauO"
      }
    },
    {
      "cell_type": "code",
      "source": [
        "from sklearn.tree import DecisionTreeRegressor"
      ],
      "metadata": {
        "id": "59XrxKMa5qRK"
      },
      "execution_count": null,
      "outputs": []
    },
    {
      "cell_type": "code",
      "source": [
        "dtr=DecisionTreeRegressor()"
      ],
      "metadata": {
        "id": "bEuiuA355s2a"
      },
      "execution_count": null,
      "outputs": []
    },
    {
      "cell_type": "code",
      "source": [
        "model2=dtr.fit(x,y)"
      ],
      "metadata": {
        "id": "OPrfu6DU51_3"
      },
      "execution_count": null,
      "outputs": []
    },
    {
      "cell_type": "code",
      "source": [
        "print (model2.predict(test_data))"
      ],
      "metadata": {
        "colab": {
          "base_uri": "https://localhost:8080/"
        },
        "id": "T3bfRvCi55bB",
        "outputId": "287a6355-0cb8-4623-95c6-570f454a6a1f"
      },
      "execution_count": null,
      "outputs": [
        {
          "output_type": "stream",
          "name": "stdout",
          "text": [
            "[1.]\n"
          ]
        }
      ]
    },
    {
      "cell_type": "code",
      "source": [],
      "metadata": {
        "id": "wvcPDvNr57xJ"
      },
      "execution_count": null,
      "outputs": []
    }
  ]
}